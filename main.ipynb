{
 "cells": [
  {
   "cell_type": "markdown",
   "metadata": {},
   "source": [
    "# Relationship of personality traits with the probability of being employed in Poland"
   ]
  },
  {
   "cell_type": "markdown",
   "metadata": {},
   "source": [
    "## Abstract\n",
    "\n",
    "The current challenges of the labour market require a thorough analysis of factors related to the probability of employment of individuals. This paper presents the most important theories related to the labour market, such as the Search and Matching Theory, the Human Capital Theory and the Statistical Discrimination Theory. The Big Five Theory was also introduced and empirical research on the relationship between personality and employability was analyzed. In the research part, based on the data from the PIAAC and post-PIAAC studies, logit models were estimated, aimed at examining the relationship of personality traits with the probability of employment. The results showed that differences in respondents' personalities were related to the probability of employment."
   ]
  },
  {
   "cell_type": "code",
   "execution_count": 297,
   "metadata": {},
   "outputs": [],
   "source": [
    "import pandas as pd\n",
    "import numpy as np\n",
    "from sklearn.preprocessing import LabelEncoder\n",
    "import warnings\n",
    "import missingno as msno\n",
    "import matplotlib.pyplot as plt\n",
    "from sklearn.impute import SimpleImputer\n",
    "import seaborn as sns\n",
    "import plotly.express as px\n"
   ]
  },
  {
   "cell_type": "markdown",
   "metadata": {},
   "source": [
    "## Data\n",
    "\n",
    "The analysis was performed based on individual-derived data\n",
    "from the PIAAC (Programme for the International Assessment of Adult Competencies) for Poland, as well as its national follow-up (post-PIAAC), in which additional information was collected from people participating in the first edition of the study. This data was chosen because it is the only study on the situation of Poles in the labor market that provides not only information about the cognitive skills of respondents, but also their personality traits."
   ]
  },
  {
   "cell_type": "markdown",
   "metadata": {},
   "source": [
    "The relationship of personality traits with the probability of employment was estimated using logit model in which the dependent variable is discrete and takes the value of 1 in the case of taking up employment during the post-PIAAC study period and 0 in the case of remaining unemployed or professionally inactive during that period. It was decided to use the logit model because for the purposes of this study, it was important to compare the model with the results of other studies conducted in other countries."
   ]
  },
  {
   "cell_type": "code",
   "execution_count": 203,
   "metadata": {},
   "outputs": [],
   "source": [
    "data = pd.read_stata(\"C:\\piaac_study.dta\")\n",
    "\n",
    "selected_data = data[[\"sq\", \"eq\", \"uq\", \"iq\", \"nq\", \"age_r\", \"age_r2\", \"gender_r\", \"edu_lvl2\", \"train_all\", \"employ\"]]\n",
    "\n",
    "with warnings.catch_warnings():\n",
    "     warnings.filterwarnings('ignore')"
   ]
  },
  {
   "cell_type": "markdown",
   "metadata": {},
   "source": [
    "The dataset includes 4967 rows and 11 columns."
   ]
  },
  {
   "cell_type": "code",
   "execution_count": 204,
   "metadata": {},
   "outputs": [
    {
     "data": {
      "text/plain": [
       "(4967, 11)"
      ]
     },
     "execution_count": 204,
     "metadata": {},
     "output_type": "execute_result"
    }
   ],
   "source": [
    "selected_data.shape"
   ]
  },
  {
   "cell_type": "code",
   "execution_count": 205,
   "metadata": {},
   "outputs": [
    {
     "data": {
      "text/html": [
       "<div>\n",
       "<style scoped>\n",
       "    .dataframe tbody tr th:only-of-type {\n",
       "        vertical-align: middle;\n",
       "    }\n",
       "\n",
       "    .dataframe tbody tr th {\n",
       "        vertical-align: top;\n",
       "    }\n",
       "\n",
       "    .dataframe thead th {\n",
       "        text-align: right;\n",
       "    }\n",
       "</style>\n",
       "<table border=\"1\" class=\"dataframe\">\n",
       "  <thead>\n",
       "    <tr style=\"text-align: right;\">\n",
       "      <th></th>\n",
       "      <th>sq</th>\n",
       "      <th>eq</th>\n",
       "      <th>uq</th>\n",
       "      <th>iq</th>\n",
       "      <th>nq</th>\n",
       "      <th>age_r</th>\n",
       "      <th>age_r2</th>\n",
       "      <th>gender_r</th>\n",
       "      <th>edu_lvl2</th>\n",
       "      <th>train_all</th>\n",
       "      <th>employ</th>\n",
       "    </tr>\n",
       "  </thead>\n",
       "  <tbody>\n",
       "    <tr>\n",
       "      <th>0</th>\n",
       "      <td>5.666667</td>\n",
       "      <td>3.333333</td>\n",
       "      <td>6.000000</td>\n",
       "      <td>3.666667</td>\n",
       "      <td>4.666667</td>\n",
       "      <td>23.0</td>\n",
       "      <td>529.0</td>\n",
       "      <td>Male</td>\n",
       "      <td>3.0</td>\n",
       "      <td>2.0</td>\n",
       "      <td>1.0</td>\n",
       "    </tr>\n",
       "    <tr>\n",
       "      <th>1</th>\n",
       "      <td>7.000000</td>\n",
       "      <td>4.000000</td>\n",
       "      <td>4.000000</td>\n",
       "      <td>4.000000</td>\n",
       "      <td>4.000000</td>\n",
       "      <td>33.0</td>\n",
       "      <td>1089.0</td>\n",
       "      <td>Male</td>\n",
       "      <td>2.0</td>\n",
       "      <td>0.0</td>\n",
       "      <td>1.0</td>\n",
       "    </tr>\n",
       "    <tr>\n",
       "      <th>2</th>\n",
       "      <td>5.000000</td>\n",
       "      <td>2.000000</td>\n",
       "      <td>3.333333</td>\n",
       "      <td>4.333333</td>\n",
       "      <td>3.666667</td>\n",
       "      <td>19.0</td>\n",
       "      <td>361.0</td>\n",
       "      <td>Male</td>\n",
       "      <td>3.0</td>\n",
       "      <td>2.0</td>\n",
       "      <td>1.0</td>\n",
       "    </tr>\n",
       "    <tr>\n",
       "      <th>3</th>\n",
       "      <td>6.000000</td>\n",
       "      <td>2.666667</td>\n",
       "      <td>4.000000</td>\n",
       "      <td>3.333333</td>\n",
       "      <td>3.666667</td>\n",
       "      <td>20.0</td>\n",
       "      <td>400.0</td>\n",
       "      <td>Female</td>\n",
       "      <td>4.0</td>\n",
       "      <td>0.0</td>\n",
       "      <td>0.0</td>\n",
       "    </tr>\n",
       "    <tr>\n",
       "      <th>4</th>\n",
       "      <td>7.000000</td>\n",
       "      <td>5.000000</td>\n",
       "      <td>6.333333</td>\n",
       "      <td>5.333333</td>\n",
       "      <td>2.333333</td>\n",
       "      <td>19.0</td>\n",
       "      <td>361.0</td>\n",
       "      <td>Male</td>\n",
       "      <td>3.0</td>\n",
       "      <td>0.0</td>\n",
       "      <td>1.0</td>\n",
       "    </tr>\n",
       "  </tbody>\n",
       "</table>\n",
       "</div>"
      ],
      "text/plain": [
       "         sq        eq        uq        iq        nq age_r  age_r2 gender_r  \\\n",
       "0  5.666667  3.333333  6.000000  3.666667  4.666667  23.0   529.0     Male   \n",
       "1  7.000000  4.000000  4.000000  4.000000  4.000000  33.0  1089.0     Male   \n",
       "2  5.000000  2.000000  3.333333  4.333333  3.666667  19.0   361.0     Male   \n",
       "3  6.000000  2.666667  4.000000  3.333333  3.666667  20.0   400.0   Female   \n",
       "4  7.000000  5.000000  6.333333  5.333333  2.333333  19.0   361.0     Male   \n",
       "\n",
       "   edu_lvl2  train_all  employ  \n",
       "0       3.0        2.0     1.0  \n",
       "1       2.0        0.0     1.0  \n",
       "2       3.0        2.0     1.0  \n",
       "3       4.0        0.0     0.0  \n",
       "4       3.0        0.0     1.0  "
      ]
     },
     "execution_count": 205,
     "metadata": {},
     "output_type": "execute_result"
    }
   ],
   "source": [
    "selected_data.head(5)"
   ]
  },
  {
   "cell_type": "code",
   "execution_count": 206,
   "metadata": {},
   "outputs": [
    {
     "name": "stdout",
     "output_type": "stream",
     "text": [
      "<class 'pandas.core.frame.DataFrame'>\n",
      "Int64Index: 4967 entries, 0 to 4966\n",
      "Data columns (total 11 columns):\n",
      " #   Column     Non-Null Count  Dtype   \n",
      "---  ------     --------------  -----   \n",
      " 0   sq         4731 non-null   float32 \n",
      " 1   eq         4694 non-null   float32 \n",
      " 2   uq         4720 non-null   float32 \n",
      " 3   iq         4663 non-null   float32 \n",
      " 4   nq         4705 non-null   float32 \n",
      " 5   age_r      4967 non-null   category\n",
      " 6   age_r2     4967 non-null   float32 \n",
      " 7   gender_r   4967 non-null   category\n",
      " 8   edu_lvl2   4967 non-null   float32 \n",
      " 9   train_all  4967 non-null   float32 \n",
      " 10  employ     4967 non-null   float32 \n",
      "dtypes: category(2), float32(9)\n",
      "memory usage: 225.7 KB\n"
     ]
    }
   ],
   "source": [
    "selected_data.info()"
   ]
  },
  {
   "cell_type": "code",
   "execution_count": 207,
   "metadata": {},
   "outputs": [
    {
     "data": {
      "image/png": "[encoded data removed]",
      "text/plain": [
       "<Figure size 1000x750 with 9 Axes>"
      ]
     },
     "metadata": {},
     "output_type": "display_data"
    }
   ],
   "source": [
    "selected_data.hist(bins=20, figsize=(10,7.5))\n",
    "plt.show()"
   ]
  },
  {
   "cell_type": "markdown",
   "metadata": {},
   "source": [
    "## Data Cleaning"
   ]
  },
  {
   "cell_type": "code",
   "execution_count": 208,
   "metadata": {},
   "outputs": [],
   "source": [
    "selected_data = selected_data.rename(columns = {\"sq\": \"conscientiousness\",\n",
    "                                \"eq\": \"extroversion\", \n",
    "                                \"uq\": \"agreeableness\" , \n",
    "                                \"iq\": \"openness\",\n",
    "                                \"nq\": \"neuroticism\",\n",
    "                                \"age_r\": \"age\",\n",
    "                                \"age_r2\": \"age_squared\",\n",
    "                                \"gender_r\": \"gender\",\n",
    "                                \"edu_lvl2\": \"education\",\n",
    "                                \"train_all\": \"trained\",\n",
    "                                \"employ\": \"employed_postpiaac\"})"
   ]
  },
  {
   "cell_type": "markdown",
   "metadata": {},
   "source": [
    "Perform label-encoding for categorical variables:"
   ]
  },
  {
   "cell_type": "code",
   "execution_count": 209,
   "metadata": {},
   "outputs": [],
   "source": [
    "le = LabelEncoder()\n",
    "\n",
    "for cat_var in [\"gender\", \"education\", \"trained\", \"employed_postpiaac\"]:\n",
    "    selected_data[cat_var] = le.fit_transform(selected_data[cat_var])  "
   ]
  },
  {
   "cell_type": "code",
   "execution_count": 210,
   "metadata": {},
   "outputs": [],
   "source": [
    "cols = [\"age\", \"age_squared\"]\n",
    "selected_data[cols] = selected_data[cols].applymap(np.int64)"
   ]
  },
  {
   "cell_type": "code",
   "execution_count": 211,
   "metadata": {},
   "outputs": [],
   "source": [
    "selected_data = selected_data[::].round(decimals = 1)"
   ]
  },
  {
   "cell_type": "code",
   "execution_count": 212,
   "metadata": {},
   "outputs": [
    {
     "data": {
      "text/html": [
       "<div>\n",
       "<style scoped>\n",
       "    .dataframe tbody tr th:only-of-type {\n",
       "        vertical-align: middle;\n",
       "    }\n",
       "\n",
       "    .dataframe tbody tr th {\n",
       "        vertical-align: top;\n",
       "    }\n",
       "\n",
       "    .dataframe thead th {\n",
       "        text-align: right;\n",
       "    }\n",
       "</style>\n",
       "<table border=\"1\" class=\"dataframe\">\n",
       "  <thead>\n",
       "    <tr style=\"text-align: right;\">\n",
       "      <th></th>\n",
       "      <th>conscientiousness</th>\n",
       "      <th>extroversion</th>\n",
       "      <th>agreeableness</th>\n",
       "      <th>openness</th>\n",
       "      <th>neuroticism</th>\n",
       "      <th>age</th>\n",
       "      <th>age_squared</th>\n",
       "      <th>gender</th>\n",
       "      <th>education</th>\n",
       "      <th>trained</th>\n",
       "      <th>employed_postpiaac</th>\n",
       "    </tr>\n",
       "  </thead>\n",
       "  <tbody>\n",
       "    <tr>\n",
       "      <th>0</th>\n",
       "      <td>5.7</td>\n",
       "      <td>3.3</td>\n",
       "      <td>6.0</td>\n",
       "      <td>3.7</td>\n",
       "      <td>4.7</td>\n",
       "      <td>23</td>\n",
       "      <td>529</td>\n",
       "      <td>1</td>\n",
       "      <td>3</td>\n",
       "      <td>2</td>\n",
       "      <td>1</td>\n",
       "    </tr>\n",
       "    <tr>\n",
       "      <th>1</th>\n",
       "      <td>7.0</td>\n",
       "      <td>4.0</td>\n",
       "      <td>4.0</td>\n",
       "      <td>4.0</td>\n",
       "      <td>4.0</td>\n",
       "      <td>33</td>\n",
       "      <td>1089</td>\n",
       "      <td>1</td>\n",
       "      <td>2</td>\n",
       "      <td>0</td>\n",
       "      <td>1</td>\n",
       "    </tr>\n",
       "    <tr>\n",
       "      <th>2</th>\n",
       "      <td>5.0</td>\n",
       "      <td>2.0</td>\n",
       "      <td>3.3</td>\n",
       "      <td>4.3</td>\n",
       "      <td>3.7</td>\n",
       "      <td>19</td>\n",
       "      <td>361</td>\n",
       "      <td>1</td>\n",
       "      <td>3</td>\n",
       "      <td>2</td>\n",
       "      <td>1</td>\n",
       "    </tr>\n",
       "    <tr>\n",
       "      <th>3</th>\n",
       "      <td>6.0</td>\n",
       "      <td>2.7</td>\n",
       "      <td>4.0</td>\n",
       "      <td>3.3</td>\n",
       "      <td>3.7</td>\n",
       "      <td>20</td>\n",
       "      <td>400</td>\n",
       "      <td>0</td>\n",
       "      <td>4</td>\n",
       "      <td>0</td>\n",
       "      <td>0</td>\n",
       "    </tr>\n",
       "    <tr>\n",
       "      <th>4</th>\n",
       "      <td>7.0</td>\n",
       "      <td>5.0</td>\n",
       "      <td>6.3</td>\n",
       "      <td>5.3</td>\n",
       "      <td>2.3</td>\n",
       "      <td>19</td>\n",
       "      <td>361</td>\n",
       "      <td>1</td>\n",
       "      <td>3</td>\n",
       "      <td>0</td>\n",
       "      <td>1</td>\n",
       "    </tr>\n",
       "    <tr>\n",
       "      <th>5</th>\n",
       "      <td>5.3</td>\n",
       "      <td>5.0</td>\n",
       "      <td>4.3</td>\n",
       "      <td>5.7</td>\n",
       "      <td>3.7</td>\n",
       "      <td>22</td>\n",
       "      <td>484</td>\n",
       "      <td>1</td>\n",
       "      <td>4</td>\n",
       "      <td>1</td>\n",
       "      <td>1</td>\n",
       "    </tr>\n",
       "    <tr>\n",
       "      <th>6</th>\n",
       "      <td>7.0</td>\n",
       "      <td>6.7</td>\n",
       "      <td>4.7</td>\n",
       "      <td>7.0</td>\n",
       "      <td>3.7</td>\n",
       "      <td>23</td>\n",
       "      <td>529</td>\n",
       "      <td>0</td>\n",
       "      <td>4</td>\n",
       "      <td>0</td>\n",
       "      <td>1</td>\n",
       "    </tr>\n",
       "    <tr>\n",
       "      <th>7</th>\n",
       "      <td>7.0</td>\n",
       "      <td>3.7</td>\n",
       "      <td>6.3</td>\n",
       "      <td>6.7</td>\n",
       "      <td>5.3</td>\n",
       "      <td>34</td>\n",
       "      <td>1156</td>\n",
       "      <td>1</td>\n",
       "      <td>3</td>\n",
       "      <td>0</td>\n",
       "      <td>1</td>\n",
       "    </tr>\n",
       "    <tr>\n",
       "      <th>8</th>\n",
       "      <td>5.0</td>\n",
       "      <td>4.3</td>\n",
       "      <td>3.0</td>\n",
       "      <td>4.7</td>\n",
       "      <td>4.7</td>\n",
       "      <td>25</td>\n",
       "      <td>625</td>\n",
       "      <td>1</td>\n",
       "      <td>4</td>\n",
       "      <td>0</td>\n",
       "      <td>1</td>\n",
       "    </tr>\n",
       "    <tr>\n",
       "      <th>9</th>\n",
       "      <td>5.7</td>\n",
       "      <td>3.7</td>\n",
       "      <td>4.7</td>\n",
       "      <td>5.7</td>\n",
       "      <td>3.7</td>\n",
       "      <td>23</td>\n",
       "      <td>529</td>\n",
       "      <td>1</td>\n",
       "      <td>1</td>\n",
       "      <td>2</td>\n",
       "      <td>1</td>\n",
       "    </tr>\n",
       "  </tbody>\n",
       "</table>\n",
       "</div>"
      ],
      "text/plain": [
       "   conscientiousness  extroversion  agreeableness  openness  neuroticism  age  \\\n",
       "0                5.7           3.3            6.0       3.7          4.7   23   \n",
       "1                7.0           4.0            4.0       4.0          4.0   33   \n",
       "2                5.0           2.0            3.3       4.3          3.7   19   \n",
       "3                6.0           2.7            4.0       3.3          3.7   20   \n",
       "4                7.0           5.0            6.3       5.3          2.3   19   \n",
       "5                5.3           5.0            4.3       5.7          3.7   22   \n",
       "6                7.0           6.7            4.7       7.0          3.7   23   \n",
       "7                7.0           3.7            6.3       6.7          5.3   34   \n",
       "8                5.0           4.3            3.0       4.7          4.7   25   \n",
       "9                5.7           3.7            4.7       5.7          3.7   23   \n",
       "\n",
       "   age_squared  gender  education  trained  employed_postpiaac  \n",
       "0          529       1          3        2                   1  \n",
       "1         1089       1          2        0                   1  \n",
       "2          361       1          3        2                   1  \n",
       "3          400       0          4        0                   0  \n",
       "4          361       1          3        0                   1  \n",
       "5          484       1          4        1                   1  \n",
       "6          529       0          4        0                   1  \n",
       "7         1156       1          3        0                   1  \n",
       "8          625       1          4        0                   1  \n",
       "9          529       1          1        2                   1  "
      ]
     },
     "execution_count": 212,
     "metadata": {},
     "output_type": "execute_result"
    }
   ],
   "source": [
    "selected_data.head(10)"
   ]
  },
  {
   "cell_type": "markdown",
   "metadata": {},
   "source": [
    "Find missing values:"
   ]
  },
  {
   "cell_type": "code",
   "execution_count": 213,
   "metadata": {},
   "outputs": [
    {
     "data": {
      "text/plain": [
       "True"
      ]
     },
     "execution_count": 213,
     "metadata": {},
     "output_type": "execute_result"
    }
   ],
   "source": [
    "selected_data.isna().values.any()"
   ]
  },
  {
   "cell_type": "code",
   "execution_count": 214,
   "metadata": {},
   "outputs": [
    {
     "data": {
      "text/plain": [
       "conscientiousness     236\n",
       "extroversion          273\n",
       "agreeableness         247\n",
       "openness              304\n",
       "neuroticism           262\n",
       "age                     0\n",
       "age_squared             0\n",
       "gender                  0\n",
       "education               0\n",
       "trained                 0\n",
       "employed_postpiaac      0\n",
       "dtype: int64"
      ]
     },
     "execution_count": 214,
     "metadata": {},
     "output_type": "execute_result"
    }
   ],
   "source": [
    "selected_data.isna().sum()"
   ]
  },
  {
   "cell_type": "markdown",
   "metadata": {},
   "source": [
    "As the analyzed sample is relatively small and the missing data are present for variables related to the personality traits, in order not to lose too much information, it was decided to use the imputation method for replacing missing data. "
   ]
  },
  {
   "cell_type": "code",
   "execution_count": 216,
   "metadata": {},
   "outputs": [],
   "source": [
    "imputer = SimpleImputer(strategy=\"median\")"
   ]
  },
  {
   "cell_type": "code",
   "execution_count": 218,
   "metadata": {},
   "outputs": [
    {
     "data": {
      "text/html": [
       "<style>#sk-container-id-1 {color: black;background-color: white;}#sk-container-id-1 pre{padding: 0;}#sk-container-id-1 div.sk-toggleable {background-color: white;}#sk-container-id-1 label.sk-toggleable__label {cursor: pointer;display: block;width: 100%;margin-bottom: 0;padding: 0.3em;box-sizing: border-box;text-align: center;}#sk-container-id-1 label.sk-toggleable__label-arrow:before {content: \"▸\";float: left;margin-right: 0.25em;color: #696969;}#sk-container-id-1 label.sk-toggleable__label-arrow:hover:before {color: black;}#sk-container-id-1 div.sk-estimator:hover label.sk-toggleable__label-arrow:before {color: black;}#sk-container-id-1 div.sk-toggleable__content {max-height: 0;max-width: 0;overflow: hidden;text-align: left;background-color: #f0f8ff;}#sk-container-id-1 div.sk-toggleable__content pre {margin: 0.2em;color: black;border-radius: 0.25em;background-color: #f0f8ff;}#sk-container-id-1 input.sk-toggleable__control:checked~div.sk-toggleable__content {max-height: 200px;max-width: 100%;overflow: auto;}#sk-container-id-1 input.sk-toggleable__control:checked~label.sk-toggleable__label-arrow:before {content: \"▾\";}#sk-container-id-1 div.sk-estimator input.sk-toggleable__control:checked~label.sk-toggleable__label {background-color: #d4ebff;}#sk-container-id-1 div.sk-label input.sk-toggleable__control:checked~label.sk-toggleable__label {background-color: #d4ebff;}#sk-container-id-1 input.sk-hidden--visually {border: 0;clip: rect(1px 1px 1px 1px);clip: rect(1px, 1px, 1px, 1px);height: 1px;margin: -1px;overflow: hidden;padding: 0;position: absolute;width: 1px;}#sk-container-id-1 div.sk-estimator {font-family: monospace;background-color: #f0f8ff;border: 1px dotted black;border-radius: 0.25em;box-sizing: border-box;margin-bottom: 0.5em;}#sk-container-id-1 div.sk-estimator:hover {background-color: #d4ebff;}#sk-container-id-1 div.sk-parallel-item::after {content: \"\";width: 100%;border-bottom: 1px solid gray;flex-grow: 1;}#sk-container-id-1 div.sk-label:hover label.sk-toggleable__label {background-color: #d4ebff;}#sk-container-id-1 div.sk-serial::before {content: \"\";position: absolute;border-left: 1px solid gray;box-sizing: border-box;top: 0;bottom: 0;left: 50%;z-index: 0;}#sk-container-id-1 div.sk-serial {display: flex;flex-direction: column;align-items: center;background-color: white;padding-right: 0.2em;padding-left: 0.2em;position: relative;}#sk-container-id-1 div.sk-item {position: relative;z-index: 1;}#sk-container-id-1 div.sk-parallel {display: flex;align-items: stretch;justify-content: center;background-color: white;position: relative;}#sk-container-id-1 div.sk-item::before, #sk-container-id-1 div.sk-parallel-item::before {content: \"\";position: absolute;border-left: 1px solid gray;box-sizing: border-box;top: 0;bottom: 0;left: 50%;z-index: -1;}#sk-container-id-1 div.sk-parallel-item {display: flex;flex-direction: column;z-index: 1;position: relative;background-color: white;}#sk-container-id-1 div.sk-parallel-item:first-child::after {align-self: flex-end;width: 50%;}#sk-container-id-1 div.sk-parallel-item:last-child::after {align-self: flex-start;width: 50%;}#sk-container-id-1 div.sk-parallel-item:only-child::after {width: 0;}#sk-container-id-1 div.sk-dashed-wrapped {border: 1px dashed gray;margin: 0 0.4em 0.5em 0.4em;box-sizing: border-box;padding-bottom: 0.4em;background-color: white;}#sk-container-id-1 div.sk-label label {font-family: monospace;font-weight: bold;display: inline-block;line-height: 1.2em;}#sk-container-id-1 div.sk-label-container {text-align: center;}#sk-container-id-1 div.sk-container {/* jupyter's `normalize.less` sets `[hidden] { display: none; }` but bootstrap.min.css set `[hidden] { display: none !important; }` so we also need the `!important` here to be able to override the default hidden behavior on the sphinx rendered scikit-learn.org. See: https://github.com/scikit-learn/scikit-learn/issues/21755 */display: inline-block !important;position: relative;}#sk-container-id-1 div.sk-text-repr-fallback {display: none;}</style><div id=\"sk-container-id-1\" class=\"sk-top-container\"><div class=\"sk-text-repr-fallback\"><pre>SimpleImputer(strategy=&#x27;median&#x27;)</pre><b>In a Jupyter environment, please rerun this cell to show the HTML representation or trust the notebook. <br />On GitHub, the HTML representation is unable to render, please try loading this page with nbviewer.org.</b></div><div class=\"sk-container\" hidden><div class=\"sk-item\"><div class=\"sk-estimator sk-toggleable\"><input class=\"sk-toggleable__control sk-hidden--visually\" id=\"sk-estimator-id-1\" type=\"checkbox\" checked><label for=\"sk-estimator-id-1\" class=\"sk-toggleable__label sk-toggleable__label-arrow\">SimpleImputer</label><div class=\"sk-toggleable__content\"><pre>SimpleImputer(strategy=&#x27;median&#x27;)</pre></div></div></div></div></div>"
      ],
      "text/plain": [
       "SimpleImputer(strategy='median')"
      ]
     },
     "execution_count": 218,
     "metadata": {},
     "output_type": "execute_result"
    }
   ],
   "source": [
    "imputer.fit(selected_data)"
   ]
  },
  {
   "cell_type": "code",
   "execution_count": 219,
   "metadata": {},
   "outputs": [],
   "source": [
    "X = imputer.transform(selected_data)"
   ]
  },
  {
   "cell_type": "markdown",
   "metadata": {},
   "source": [
    "As a result of the transformation, the NumPy array was obtained, which was then placed in the DataFrame object:"
   ]
  },
  {
   "cell_type": "code",
   "execution_count": 220,
   "metadata": {},
   "outputs": [],
   "source": [
    "clean_data = pd.DataFrame(X, columns = selected_data.columns, index = selected_data.index)"
   ]
  },
  {
   "cell_type": "markdown",
   "metadata": {},
   "source": [
    "## Exploratory Data Analysis"
   ]
  },
  {
   "cell_type": "markdown",
   "metadata": {},
   "source": [
    "### Univariate analysis"
   ]
  },
  {
   "cell_type": "markdown",
   "metadata": {},
   "source": [
    "Firstly, let's delve into summary statistics of the data:"
   ]
  },
  {
   "cell_type": "code",
   "execution_count": 223,
   "metadata": {},
   "outputs": [
    {
     "data": {
      "text/html": [
       "<div>\n",
       "<style scoped>\n",
       "    .dataframe tbody tr th:only-of-type {\n",
       "        vertical-align: middle;\n",
       "    }\n",
       "\n",
       "    .dataframe tbody tr th {\n",
       "        vertical-align: top;\n",
       "    }\n",
       "\n",
       "    .dataframe thead th {\n",
       "        text-align: right;\n",
       "    }\n",
       "</style>\n",
       "<table border=\"1\" class=\"dataframe\">\n",
       "  <thead>\n",
       "    <tr style=\"text-align: right;\">\n",
       "      <th></th>\n",
       "      <th>conscientiousness</th>\n",
       "      <th>extroversion</th>\n",
       "      <th>agreeableness</th>\n",
       "      <th>openness</th>\n",
       "      <th>neuroticism</th>\n",
       "      <th>age</th>\n",
       "      <th>age_squared</th>\n",
       "      <th>gender</th>\n",
       "      <th>education</th>\n",
       "      <th>trained</th>\n",
       "      <th>employed_postpiaac</th>\n",
       "    </tr>\n",
       "  </thead>\n",
       "  <tbody>\n",
       "    <tr>\n",
       "      <th>count</th>\n",
       "      <td>4967.000000</td>\n",
       "      <td>4967.000000</td>\n",
       "      <td>4967.000000</td>\n",
       "      <td>4967.000000</td>\n",
       "      <td>4967.000000</td>\n",
       "      <td>4967.000000</td>\n",
       "      <td>4967.000000</td>\n",
       "      <td>4967.000000</td>\n",
       "      <td>4967.000000</td>\n",
       "      <td>4967.000000</td>\n",
       "      <td>4967.000000</td>\n",
       "    </tr>\n",
       "    <tr>\n",
       "      <th>mean</th>\n",
       "      <td>5.718442</td>\n",
       "      <td>4.077834</td>\n",
       "      <td>5.072861</td>\n",
       "      <td>5.042420</td>\n",
       "      <td>4.106724</td>\n",
       "      <td>31.557681</td>\n",
       "      <td>1192.990739</td>\n",
       "      <td>0.494262</td>\n",
       "      <td>3.017314</td>\n",
       "      <td>1.025166</td>\n",
       "      <td>0.677874</td>\n",
       "    </tr>\n",
       "    <tr>\n",
       "      <th>std</th>\n",
       "      <td>0.970627</td>\n",
       "      <td>1.066112</td>\n",
       "      <td>1.066115</td>\n",
       "      <td>1.074803</td>\n",
       "      <td>1.242457</td>\n",
       "      <td>14.040770</td>\n",
       "      <td>1099.128650</td>\n",
       "      <td>0.500017</td>\n",
       "      <td>0.931668</td>\n",
       "      <td>1.187925</td>\n",
       "      <td>0.467338</td>\n",
       "    </tr>\n",
       "    <tr>\n",
       "      <th>min</th>\n",
       "      <td>1.000000</td>\n",
       "      <td>1.000000</td>\n",
       "      <td>1.000000</td>\n",
       "      <td>1.000000</td>\n",
       "      <td>0.700000</td>\n",
       "      <td>16.000000</td>\n",
       "      <td>256.000000</td>\n",
       "      <td>0.000000</td>\n",
       "      <td>0.000000</td>\n",
       "      <td>0.000000</td>\n",
       "      <td>0.000000</td>\n",
       "    </tr>\n",
       "    <tr>\n",
       "      <th>25%</th>\n",
       "      <td>5.000000</td>\n",
       "      <td>3.300000</td>\n",
       "      <td>4.300000</td>\n",
       "      <td>4.300000</td>\n",
       "      <td>3.300000</td>\n",
       "      <td>21.000000</td>\n",
       "      <td>441.000000</td>\n",
       "      <td>0.000000</td>\n",
       "      <td>2.000000</td>\n",
       "      <td>0.000000</td>\n",
       "      <td>0.000000</td>\n",
       "    </tr>\n",
       "    <tr>\n",
       "      <th>50%</th>\n",
       "      <td>5.700000</td>\n",
       "      <td>4.000000</td>\n",
       "      <td>5.000000</td>\n",
       "      <td>5.000000</td>\n",
       "      <td>4.000000</td>\n",
       "      <td>25.000000</td>\n",
       "      <td>625.000000</td>\n",
       "      <td>0.000000</td>\n",
       "      <td>3.000000</td>\n",
       "      <td>0.000000</td>\n",
       "      <td>1.000000</td>\n",
       "    </tr>\n",
       "    <tr>\n",
       "      <th>75%</th>\n",
       "      <td>6.700000</td>\n",
       "      <td>4.700000</td>\n",
       "      <td>5.700000</td>\n",
       "      <td>5.700000</td>\n",
       "      <td>5.000000</td>\n",
       "      <td>41.000000</td>\n",
       "      <td>1681.000000</td>\n",
       "      <td>1.000000</td>\n",
       "      <td>4.000000</td>\n",
       "      <td>2.000000</td>\n",
       "      <td>1.000000</td>\n",
       "    </tr>\n",
       "    <tr>\n",
       "      <th>max</th>\n",
       "      <td>7.000000</td>\n",
       "      <td>7.000000</td>\n",
       "      <td>7.000000</td>\n",
       "      <td>7.000000</td>\n",
       "      <td>7.000000</td>\n",
       "      <td>65.000000</td>\n",
       "      <td>4225.000000</td>\n",
       "      <td>1.000000</td>\n",
       "      <td>4.000000</td>\n",
       "      <td>3.000000</td>\n",
       "      <td>1.000000</td>\n",
       "    </tr>\n",
       "  </tbody>\n",
       "</table>\n",
       "</div>"
      ],
      "text/plain": [
       "       conscientiousness  extroversion  agreeableness     openness  \\\n",
       "count        4967.000000   4967.000000    4967.000000  4967.000000   \n",
       "mean            5.718442      4.077834       5.072861     5.042420   \n",
       "std             0.970627      1.066112       1.066115     1.074803   \n",
       "min             1.000000      1.000000       1.000000     1.000000   \n",
       "25%             5.000000      3.300000       4.300000     4.300000   \n",
       "50%             5.700000      4.000000       5.000000     5.000000   \n",
       "75%             6.700000      4.700000       5.700000     5.700000   \n",
       "max             7.000000      7.000000       7.000000     7.000000   \n",
       "\n",
       "       neuroticism          age  age_squared       gender    education  \\\n",
       "count  4967.000000  4967.000000  4967.000000  4967.000000  4967.000000   \n",
       "mean      4.106724    31.557681  1192.990739     0.494262     3.017314   \n",
       "std       1.242457    14.040770  1099.128650     0.500017     0.931668   \n",
       "min       0.700000    16.000000   256.000000     0.000000     0.000000   \n",
       "25%       3.300000    21.000000   441.000000     0.000000     2.000000   \n",
       "50%       4.000000    25.000000   625.000000     0.000000     3.000000   \n",
       "75%       5.000000    41.000000  1681.000000     1.000000     4.000000   \n",
       "max       7.000000    65.000000  4225.000000     1.000000     4.000000   \n",
       "\n",
       "           trained  employed_postpiaac  \n",
       "count  4967.000000         4967.000000  \n",
       "mean      1.025166            0.677874  \n",
       "std       1.187925            0.467338  \n",
       "min       0.000000            0.000000  \n",
       "25%       0.000000            0.000000  \n",
       "50%       0.000000            1.000000  \n",
       "75%       2.000000            1.000000  \n",
       "max       3.000000            1.000000  "
      ]
     },
     "execution_count": 223,
     "metadata": {},
     "output_type": "execute_result"
    }
   ],
   "source": [
    "clean_data.describe()"
   ]
  },
  {
   "cell_type": "markdown",
   "metadata": {},
   "source": [
    "Personality traits were measured based on 7-point Linert scale, thus it's not possible to have a minimum value of 0.7 in the neuroticism column."
   ]
  },
  {
   "cell_type": "code",
   "execution_count": 225,
   "metadata": {},
   "outputs": [
    {
     "data": {
      "text/html": [
       "<div>\n",
       "<style scoped>\n",
       "    .dataframe tbody tr th:only-of-type {\n",
       "        vertical-align: middle;\n",
       "    }\n",
       "\n",
       "    .dataframe tbody tr th {\n",
       "        vertical-align: top;\n",
       "    }\n",
       "\n",
       "    .dataframe thead th {\n",
       "        text-align: right;\n",
       "    }\n",
       "</style>\n",
       "<table border=\"1\" class=\"dataframe\">\n",
       "  <thead>\n",
       "    <tr style=\"text-align: right;\">\n",
       "      <th></th>\n",
       "      <th>conscientiousness</th>\n",
       "      <th>extroversion</th>\n",
       "      <th>agreeableness</th>\n",
       "      <th>openness</th>\n",
       "      <th>neuroticism</th>\n",
       "      <th>age</th>\n",
       "      <th>age_squared</th>\n",
       "      <th>gender</th>\n",
       "      <th>education</th>\n",
       "      <th>trained</th>\n",
       "      <th>employed_postpiaac</th>\n",
       "    </tr>\n",
       "  </thead>\n",
       "  <tbody>\n",
       "    <tr>\n",
       "      <th>1588</th>\n",
       "      <td>5.7</td>\n",
       "      <td>5.0</td>\n",
       "      <td>5.0</td>\n",
       "      <td>3.0</td>\n",
       "      <td>0.7</td>\n",
       "      <td>24.0</td>\n",
       "      <td>576.0</td>\n",
       "      <td>1.0</td>\n",
       "      <td>1.0</td>\n",
       "      <td>0.0</td>\n",
       "      <td>0.0</td>\n",
       "    </tr>\n",
       "  </tbody>\n",
       "</table>\n",
       "</div>"
      ],
      "text/plain": [
       "      conscientiousness  extroversion  agreeableness  openness  neuroticism  \\\n",
       "1588                5.7           5.0            5.0       3.0          0.7   \n",
       "\n",
       "       age  age_squared  gender  education  trained  employed_postpiaac  \n",
       "1588  24.0        576.0     1.0        1.0      0.0                 0.0  "
      ]
     },
     "execution_count": 225,
     "metadata": {},
     "output_type": "execute_result"
    }
   ],
   "source": [
    "clean_data[clean_data.neuroticism < 1]"
   ]
  },
  {
   "cell_type": "code",
   "execution_count": 230,
   "metadata": {},
   "outputs": [],
   "source": [
    "neuroticism_outlier = clean_data[clean_data.neuroticism < 1]\n",
    "clean_data.drop(neuroticism_outlier.index, inplace = True)"
   ]
  },
  {
   "cell_type": "markdown",
   "metadata": {},
   "source": [
    "#### Personality Traits"
   ]
  },
  {
   "cell_type": "code",
   "execution_count": 317,
   "metadata": {},
   "outputs": [
    {
     "data": {
      "image/png": "[encoded data removed]",
      "text/plain": [
       "<Figure size 1600x800 with 1 Axes>"
      ]
     },
     "metadata": {},
     "output_type": "display_data"
    }
   ],
   "source": [
    "plt.figure(figsize=(8,4), dpi=200)\n",
    "\n",
    "ax = sns.violinplot(\n",
    "       data = clean_data[['conscientiousness', 'extroversion', 'agreeableness', 'openness',\n",
    "       'neuroticism']],\n",
    "       palette = \"crest\", \n",
    "       inner = \"quartile\")\n",
    "\n",
    "plt.show()\n"
   ]
  },
  {
   "cell_type": "markdown",
   "metadata": {},
   "source": [
    "The results of the personality test on the larger sample should form a normal distribution. As can be seen from the graphs, the probability density distributions for extraversion and neuroticism are close to a normal distribution, while for the traits conscientiousness, agreeableness and openness, a left skewness of the distributions was observed. \n",
    "In the case of conscientiousness, the leftward skewness is confirmed in the literature and is due to the fact that respondents often tend to give answers that are more socially desirable in relation to this trait.  \n",
    "\n",
    "\n",
    "The greater accumulation of values ​​around the median results from the imputation method used in the earlier stage of the analysis.\n"
   ]
  },
  {
   "cell_type": "markdown",
   "metadata": {},
   "source": [
    "#### Age"
   ]
  },
  {
   "cell_type": "code",
   "execution_count": 318,
   "metadata": {},
   "outputs": [
    {
     "data": {
      "image/png": "[encoded data removed]",
      "text/plain": [
       "<Figure size 800x400 with 1 Axes>"
      ]
     },
     "metadata": {},
     "output_type": "display_data"
    }
   ],
   "source": [
    "plt.figure(figsize=(4,2), dpi=200)\n",
    "plt.style.use('ggplot')\n",
    "\n",
    "ax = sns.histplot(\n",
    "       data = clean_data[\"age\"],\n",
    "       color = \"mediumaquamarine\")\n",
    "\n",
    "ax.axvline(x=clean_data.age.mean(),\n",
    "            color='red')\n",
    "\n",
    "ax.set_xlabel(\"Age\", fontsize = 8)\n",
    "ax.set_ylabel(\"Number of observations\", fontsize = 8)\n",
    "\n",
    "plt.xticks(fontsize = 8)\n",
    "plt.yticks(fontsize = 8)\n",
    "\n",
    "plt.show()"
   ]
  },
  {
   "cell_type": "markdown",
   "metadata": {},
   "source": [
    "The average age was 31. It should be noted that the Polish study chose to over-represent young people aged 19-26, the purpose of which was to enable a detailed analysis between young people's competences and educational and professional pathways."
   ]
  },
  {
   "cell_type": "markdown",
   "metadata": {},
   "source": [
    "#### Gender"
   ]
  },
  {
   "cell_type": "code",
   "execution_count": 338,
   "metadata": {},
   "outputs": [
    {
     "data": {
      "text/html": [
       "<div>\n",
       "<style scoped>\n",
       "    .dataframe tbody tr th:only-of-type {\n",
       "        vertical-align: middle;\n",
       "    }\n",
       "\n",
       "    .dataframe tbody tr th {\n",
       "        vertical-align: top;\n",
       "    }\n",
       "\n",
       "    .dataframe thead th {\n",
       "        text-align: right;\n",
       "    }\n",
       "</style>\n",
       "<table border=\"1\" class=\"dataframe\">\n",
       "  <thead>\n",
       "    <tr style=\"text-align: right;\">\n",
       "      <th>col_0</th>\n",
       "      <th>count</th>\n",
       "    </tr>\n",
       "    <tr>\n",
       "      <th>gender</th>\n",
       "      <th></th>\n",
       "    </tr>\n",
       "  </thead>\n",
       "  <tbody>\n",
       "    <tr>\n",
       "      <th>0.0</th>\n",
       "      <td>0.50584</td>\n",
       "    </tr>\n",
       "    <tr>\n",
       "      <th>1.0</th>\n",
       "      <td>0.49416</td>\n",
       "    </tr>\n",
       "  </tbody>\n",
       "</table>\n",
       "</div>"
      ],
      "text/plain": [
       "col_0     count\n",
       "gender         \n",
       "0.0     0.50584\n",
       "1.0     0.49416"
      ]
     },
     "execution_count": 338,
     "metadata": {},
     "output_type": "execute_result"
    }
   ],
   "source": [
    "tab = pd.crosstab(index=clean_data['gender'], columns='count')\n",
    "tab/tab.sum()"
   ]
  },
  {
   "cell_type": "markdown",
   "metadata": {},
   "source": [
    "Gender was evenly distributed in the given sample."
   ]
  },
  {
   "cell_type": "markdown",
   "metadata": {},
   "source": [
    "#### Education"
   ]
  },
  {
   "cell_type": "code",
   "execution_count": 331,
   "metadata": {},
   "outputs": [
    {
     "data": {
      "text/html": [
       "<div>\n",
       "<style scoped>\n",
       "    .dataframe tbody tr th:only-of-type {\n",
       "        vertical-align: middle;\n",
       "    }\n",
       "\n",
       "    .dataframe tbody tr th {\n",
       "        vertical-align: top;\n",
       "    }\n",
       "\n",
       "    .dataframe thead th {\n",
       "        text-align: right;\n",
       "    }\n",
       "</style>\n",
       "<table border=\"1\" class=\"dataframe\">\n",
       "  <thead>\n",
       "    <tr style=\"text-align: right;\">\n",
       "      <th>col_0</th>\n",
       "      <th>count</th>\n",
       "    </tr>\n",
       "    <tr>\n",
       "      <th>education</th>\n",
       "      <th></th>\n",
       "    </tr>\n",
       "  </thead>\n",
       "  <tbody>\n",
       "    <tr>\n",
       "      <th>0.0</th>\n",
       "      <td>0.002618</td>\n",
       "    </tr>\n",
       "    <tr>\n",
       "      <th>1.0</th>\n",
       "      <td>0.077527</td>\n",
       "    </tr>\n",
       "    <tr>\n",
       "      <th>2.0</th>\n",
       "      <td>0.176601</td>\n",
       "    </tr>\n",
       "    <tr>\n",
       "      <th>3.0</th>\n",
       "      <td>0.386025</td>\n",
       "    </tr>\n",
       "    <tr>\n",
       "      <th>4.0</th>\n",
       "      <td>0.357229</td>\n",
       "    </tr>\n",
       "  </tbody>\n",
       "</table>\n",
       "</div>"
      ],
      "text/plain": [
       "col_0         count\n",
       "education          \n",
       "0.0        0.002618\n",
       "1.0        0.077527\n",
       "2.0        0.176601\n",
       "3.0        0.386025\n",
       "4.0        0.357229"
      ]
     },
     "execution_count": 331,
     "metadata": {},
     "output_type": "execute_result"
    }
   ],
   "source": [
    "tab = pd.crosstab(index=clean_data['education'], columns='count')\n",
    "tab/tab.sum()"
   ]
  },
  {
   "cell_type": "markdown",
   "metadata": {},
   "source": [
    "The majority of respondents had a secondary or post-secondary education (38%) or a higher education - bachelor's or master's degree (35%). About 18% of respondents had a basic vocational education. "
   ]
  },
  {
   "cell_type": "markdown",
   "metadata": {},
   "source": [
    "#### Trainings"
   ]
  },
  {
   "cell_type": "code",
   "execution_count": 332,
   "metadata": {},
   "outputs": [
    {
     "data": {
      "text/html": [
       "<div>\n",
       "<style scoped>\n",
       "    .dataframe tbody tr th:only-of-type {\n",
       "        vertical-align: middle;\n",
       "    }\n",
       "\n",
       "    .dataframe tbody tr th {\n",
       "        vertical-align: top;\n",
       "    }\n",
       "\n",
       "    .dataframe thead th {\n",
       "        text-align: right;\n",
       "    }\n",
       "</style>\n",
       "<table border=\"1\" class=\"dataframe\">\n",
       "  <thead>\n",
       "    <tr style=\"text-align: right;\">\n",
       "      <th>col_0</th>\n",
       "      <th>count</th>\n",
       "    </tr>\n",
       "    <tr>\n",
       "      <th>trained</th>\n",
       "      <th></th>\n",
       "    </tr>\n",
       "  </thead>\n",
       "  <tbody>\n",
       "    <tr>\n",
       "      <th>0.0</th>\n",
       "      <td>0.512284</td>\n",
       "    </tr>\n",
       "    <tr>\n",
       "      <th>1.0</th>\n",
       "      <td>0.130890</td>\n",
       "    </tr>\n",
       "    <tr>\n",
       "      <th>2.0</th>\n",
       "      <td>0.175997</td>\n",
       "    </tr>\n",
       "    <tr>\n",
       "      <th>3.0</th>\n",
       "      <td>0.180830</td>\n",
       "    </tr>\n",
       "  </tbody>\n",
       "</table>\n",
       "</div>"
      ],
      "text/plain": [
       "col_0       count\n",
       "trained          \n",
       "0.0      0.512284\n",
       "1.0      0.130890\n",
       "2.0      0.175997\n",
       "3.0      0.180830"
      ]
     },
     "execution_count": 332,
     "metadata": {},
     "output_type": "execute_result"
    }
   ],
   "source": [
    "tab = pd.crosstab(index=clean_data['trained'], columns='count')\n",
    "tab/tab.sum()"
   ]
  },
  {
   "cell_type": "markdown",
   "metadata": {},
   "source": [
    "More than 50% of respondents had not received any training in the two years preceding the PIAAC and postPIAAC survey. "
   ]
  },
  {
   "cell_type": "markdown",
   "metadata": {},
   "source": [
    "#### Employment status during postPIAAC study"
   ]
  },
  {
   "cell_type": "code",
   "execution_count": 349,
   "metadata": {},
   "outputs": [
    {
     "data": {
      "image/png": "[encoded data removed]",
      "text/plain": [
       "<Figure size 800x400 with 1 Axes>"
      ]
     },
     "metadata": {},
     "output_type": "display_data"
    }
   ],
   "source": [
    "plt.figure(figsize=(4,2), dpi=200)\n",
    "plt.style.use('ggplot')\n",
    "\n",
    "ax = sns.countplot(\n",
    "       data = clean_data,\n",
    "       x = \"employed_postpiaac\",\n",
    "       color = \"mediumaquamarine\")\n",
    "\n",
    "ax.set_xlabel(\"Employment status during postPIAAC study\", fontsize = 8)\n",
    "ax.set_ylabel(\"Number of observations\", fontsize = 8)\n",
    "\n",
    "plt.xticks(fontsize = 8)\n",
    "plt.yticks(fontsize = 8)\n",
    "\n",
    "plt.show()"
   ]
  },
  {
   "cell_type": "markdown",
   "metadata": {},
   "source": [
    "From the above chart we can observe that there is a class imbalance, which will be addressed at a later stage of this analysis."
   ]
  },
  {
   "cell_type": "markdown",
   "metadata": {},
   "source": [
    "### Bivariate analysis"
   ]
  },
  {
   "cell_type": "markdown",
   "metadata": {},
   "source": [
    "Let's plot the correlations between variables using heatmap."
   ]
  },
  {
   "cell_type": "code",
   "execution_count": 367,
   "metadata": {},
   "outputs": [
    {
     "data": {
      "text/html": [
       "<style type=\"text/css\">\n",
       "#T_6ee55_row0_col0, #T_6ee55_row0_col1, #T_6ee55_row0_col2, #T_6ee55_row0_col3, #T_6ee55_row0_col4, #T_6ee55_row0_col5, #T_6ee55_row0_col6, #T_6ee55_row0_col7, #T_6ee55_row0_col8, #T_6ee55_row0_col9, #T_6ee55_row0_col10, #T_6ee55_row1_col1, #T_6ee55_row1_col2, #T_6ee55_row1_col3, #T_6ee55_row1_col4, #T_6ee55_row1_col5, #T_6ee55_row1_col6, #T_6ee55_row1_col7, #T_6ee55_row1_col8, #T_6ee55_row1_col9, #T_6ee55_row1_col10, #T_6ee55_row2_col2, #T_6ee55_row2_col3, #T_6ee55_row2_col4, #T_6ee55_row2_col5, #T_6ee55_row2_col6, #T_6ee55_row2_col7, #T_6ee55_row2_col8, #T_6ee55_row2_col9, #T_6ee55_row2_col10, #T_6ee55_row3_col3, #T_6ee55_row3_col4, #T_6ee55_row3_col5, #T_6ee55_row3_col6, #T_6ee55_row3_col7, #T_6ee55_row3_col8, #T_6ee55_row3_col9, #T_6ee55_row3_col10, #T_6ee55_row4_col4, #T_6ee55_row4_col5, #T_6ee55_row4_col6, #T_6ee55_row4_col7, #T_6ee55_row4_col8, #T_6ee55_row4_col9, #T_6ee55_row4_col10, #T_6ee55_row5_col5, #T_6ee55_row5_col6, #T_6ee55_row5_col7, #T_6ee55_row5_col8, #T_6ee55_row5_col9, #T_6ee55_row5_col10, #T_6ee55_row6_col6, #T_6ee55_row6_col7, #T_6ee55_row6_col8, #T_6ee55_row6_col9, #T_6ee55_row6_col10, #T_6ee55_row7_col7, #T_6ee55_row7_col8, #T_6ee55_row7_col9, #T_6ee55_row7_col10, #T_6ee55_row8_col8, #T_6ee55_row8_col9, #T_6ee55_row8_col10, #T_6ee55_row9_col9, #T_6ee55_row9_col10, #T_6ee55_row10_col10 {\n",
       "  background-color: #000000;\n",
       "  color: #f1f1f1;\n",
       "  background-color: #f1f1f1;\n",
       "}\n",
       "#T_6ee55_row1_col0, #T_6ee55_row2_col1 {\n",
       "  background-color: #dfdbd9;\n",
       "  color: #000000;\n",
       "}\n",
       "#T_6ee55_row2_col0 {\n",
       "  background-color: #f7bca1;\n",
       "  color: #000000;\n",
       "}\n",
       "#T_6ee55_row3_col0 {\n",
       "  background-color: #f1ccb8;\n",
       "  color: #000000;\n",
       "}\n",
       "#T_6ee55_row3_col1 {\n",
       "  background-color: #f4c6af;\n",
       "  color: #000000;\n",
       "}\n",
       "#T_6ee55_row3_col2, #T_6ee55_row5_col2, #T_6ee55_row6_col2, #T_6ee55_row8_col3 {\n",
       "  background-color: #ead4c8;\n",
       "  color: #000000;\n",
       "}\n",
       "#T_6ee55_row4_col0, #T_6ee55_row9_col4 {\n",
       "  background-color: #d2dbe8;\n",
       "  color: #000000;\n",
       "}\n",
       "#T_6ee55_row4_col1, #T_6ee55_row9_col7 {\n",
       "  background-color: #e0dbd8;\n",
       "  color: #000000;\n",
       "}\n",
       "#T_6ee55_row4_col2 {\n",
       "  background-color: #cad8ef;\n",
       "  color: #000000;\n",
       "}\n",
       "#T_6ee55_row4_col3, #T_6ee55_row7_col3 {\n",
       "  background-color: #d7dce3;\n",
       "  color: #000000;\n",
       "}\n",
       "#T_6ee55_row5_col0 {\n",
       "  background-color: #ebd3c6;\n",
       "  color: #000000;\n",
       "}\n",
       "#T_6ee55_row5_col1, #T_6ee55_row6_col1, #T_6ee55_row7_col1 {\n",
       "  background-color: #d4dbe6;\n",
       "  color: #000000;\n",
       "}\n",
       "#T_6ee55_row5_col3, #T_6ee55_row6_col3, #T_6ee55_row8_col2, #T_6ee55_row9_col2 {\n",
       "  background-color: #d8dce2;\n",
       "  color: #000000;\n",
       "}\n",
       "#T_6ee55_row5_col4, #T_6ee55_row8_col1 {\n",
       "  background-color: #e3d9d3;\n",
       "  color: #000000;\n",
       "}\n",
       "#T_6ee55_row6_col0 {\n",
       "  background-color: #e9d5cb;\n",
       "  color: #000000;\n",
       "}\n",
       "#T_6ee55_row6_col4, #T_6ee55_row9_col1, #T_6ee55_row10_col3 {\n",
       "  background-color: #e4d9d2;\n",
       "  color: #000000;\n",
       "}\n",
       "#T_6ee55_row6_col5 {\n",
       "  background-color: #b50927;\n",
       "  color: #f1f1f1;\n",
       "}\n",
       "#T_6ee55_row7_col0, #T_6ee55_row10_col4 {\n",
       "  background-color: #cdd9ec;\n",
       "  color: #000000;\n",
       "}\n",
       "#T_6ee55_row7_col2 {\n",
       "  background-color: #cbd8ee;\n",
       "  color: #000000;\n",
       "}\n",
       "#T_6ee55_row7_col4, #T_6ee55_row9_col6 {\n",
       "  background-color: #bed2f6;\n",
       "  color: #000000;\n",
       "}\n",
       "#T_6ee55_row7_col5, #T_6ee55_row7_col6 {\n",
       "  background-color: #d6dce4;\n",
       "  color: #000000;\n",
       "}\n",
       "#T_6ee55_row8_col0 {\n",
       "  background-color: #dddcdc;\n",
       "  color: #000000;\n",
       "}\n",
       "#T_6ee55_row8_col4, #T_6ee55_row10_col2 {\n",
       "  background-color: #d9dce1;\n",
       "  color: #000000;\n",
       "}\n",
       "#T_6ee55_row8_col5 {\n",
       "  background-color: #b7cff9;\n",
       "  color: #000000;\n",
       "}\n",
       "#T_6ee55_row8_col6 {\n",
       "  background-color: #b5cdfa;\n",
       "  color: #000000;\n",
       "}\n",
       "#T_6ee55_row8_col7 {\n",
       "  background-color: #c5d6f2;\n",
       "  color: #000000;\n",
       "}\n",
       "#T_6ee55_row9_col0 {\n",
       "  background-color: #e2dad5;\n",
       "  color: #000000;\n",
       "}\n",
       "#T_6ee55_row9_col3 {\n",
       "  background-color: #ecd3c5;\n",
       "  color: #000000;\n",
       "}\n",
       "#T_6ee55_row9_col5, #T_6ee55_row10_col5 {\n",
       "  background-color: #c0d4f5;\n",
       "  color: #000000;\n",
       "}\n",
       "#T_6ee55_row9_col8 {\n",
       "  background-color: #f7b497;\n",
       "  color: #000000;\n",
       "}\n",
       "#T_6ee55_row10_col0 {\n",
       "  background-color: #e6d7cf;\n",
       "  color: #000000;\n",
       "}\n",
       "#T_6ee55_row10_col1 {\n",
       "  background-color: #e1dad6;\n",
       "  color: #000000;\n",
       "}\n",
       "#T_6ee55_row10_col6 {\n",
       "  background-color: #bad0f8;\n",
       "  color: #000000;\n",
       "}\n",
       "#T_6ee55_row10_col7 {\n",
       "  background-color: #edd1c2;\n",
       "  color: #000000;\n",
       "}\n",
       "#T_6ee55_row10_col8 {\n",
       "  background-color: #f2cab5;\n",
       "  color: #000000;\n",
       "}\n",
       "#T_6ee55_row10_col9 {\n",
       "  background-color: #f7ba9f;\n",
       "  color: #000000;\n",
       "}\n",
       "</style>\n",
       "<table id=\"T_6ee55\">\n",
       "  <thead>\n",
       "    <tr>\n",
       "      <th class=\"blank level0\" >&nbsp;</th>\n",
       "      <th id=\"T_6ee55_level0_col0\" class=\"col_heading level0 col0\" >conscientiousness</th>\n",
       "      <th id=\"T_6ee55_level0_col1\" class=\"col_heading level0 col1\" >extroversion</th>\n",
       "      <th id=\"T_6ee55_level0_col2\" class=\"col_heading level0 col2\" >agreeableness</th>\n",
       "      <th id=\"T_6ee55_level0_col3\" class=\"col_heading level0 col3\" >openness</th>\n",
       "      <th id=\"T_6ee55_level0_col4\" class=\"col_heading level0 col4\" >neuroticism</th>\n",
       "      <th id=\"T_6ee55_level0_col5\" class=\"col_heading level0 col5\" >age</th>\n",
       "      <th id=\"T_6ee55_level0_col6\" class=\"col_heading level0 col6\" >age_squared</th>\n",
       "      <th id=\"T_6ee55_level0_col7\" class=\"col_heading level0 col7\" >gender</th>\n",
       "      <th id=\"T_6ee55_level0_col8\" class=\"col_heading level0 col8\" >education</th>\n",
       "      <th id=\"T_6ee55_level0_col9\" class=\"col_heading level0 col9\" >trained</th>\n",
       "      <th id=\"T_6ee55_level0_col10\" class=\"col_heading level0 col10\" >employed_postpiaac</th>\n",
       "    </tr>\n",
       "  </thead>\n",
       "  <tbody>\n",
       "    <tr>\n",
       "      <th id=\"T_6ee55_level0_row0\" class=\"row_heading level0 row0\" >conscientiousness</th>\n",
       "      <td id=\"T_6ee55_row0_col0\" class=\"data row0 col0\" >nan</td>\n",
       "      <td id=\"T_6ee55_row0_col1\" class=\"data row0 col1\" >nan</td>\n",
       "      <td id=\"T_6ee55_row0_col2\" class=\"data row0 col2\" >nan</td>\n",
       "      <td id=\"T_6ee55_row0_col3\" class=\"data row0 col3\" >nan</td>\n",
       "      <td id=\"T_6ee55_row0_col4\" class=\"data row0 col4\" >nan</td>\n",
       "      <td id=\"T_6ee55_row0_col5\" class=\"data row0 col5\" >nan</td>\n",
       "      <td id=\"T_6ee55_row0_col6\" class=\"data row0 col6\" >nan</td>\n",
       "      <td id=\"T_6ee55_row0_col7\" class=\"data row0 col7\" >nan</td>\n",
       "      <td id=\"T_6ee55_row0_col8\" class=\"data row0 col8\" >nan</td>\n",
       "      <td id=\"T_6ee55_row0_col9\" class=\"data row0 col9\" >nan</td>\n",
       "      <td id=\"T_6ee55_row0_col10\" class=\"data row0 col10\" >nan</td>\n",
       "    </tr>\n",
       "    <tr>\n",
       "      <th id=\"T_6ee55_level0_row1\" class=\"row_heading level0 row1\" >extroversion</th>\n",
       "      <td id=\"T_6ee55_row1_col0\" class=\"data row1 col0\" >0.02</td>\n",
       "      <td id=\"T_6ee55_row1_col1\" class=\"data row1 col1\" >nan</td>\n",
       "      <td id=\"T_6ee55_row1_col2\" class=\"data row1 col2\" >nan</td>\n",
       "      <td id=\"T_6ee55_row1_col3\" class=\"data row1 col3\" >nan</td>\n",
       "      <td id=\"T_6ee55_row1_col4\" class=\"data row1 col4\" >nan</td>\n",
       "      <td id=\"T_6ee55_row1_col5\" class=\"data row1 col5\" >nan</td>\n",
       "      <td id=\"T_6ee55_row1_col6\" class=\"data row1 col6\" >nan</td>\n",
       "      <td id=\"T_6ee55_row1_col7\" class=\"data row1 col7\" >nan</td>\n",
       "      <td id=\"T_6ee55_row1_col8\" class=\"data row1 col8\" >nan</td>\n",
       "      <td id=\"T_6ee55_row1_col9\" class=\"data row1 col9\" >nan</td>\n",
       "      <td id=\"T_6ee55_row1_col10\" class=\"data row1 col10\" >nan</td>\n",
       "    </tr>\n",
       "    <tr>\n",
       "      <th id=\"T_6ee55_level0_row2\" class=\"row_heading level0 row2\" >agreeableness</th>\n",
       "      <td id=\"T_6ee55_row2_col0\" class=\"data row2 col0\" >0.31</td>\n",
       "      <td id=\"T_6ee55_row2_col1\" class=\"data row2 col1\" >0.02</td>\n",
       "      <td id=\"T_6ee55_row2_col2\" class=\"data row2 col2\" >nan</td>\n",
       "      <td id=\"T_6ee55_row2_col3\" class=\"data row2 col3\" >nan</td>\n",
       "      <td id=\"T_6ee55_row2_col4\" class=\"data row2 col4\" >nan</td>\n",
       "      <td id=\"T_6ee55_row2_col5\" class=\"data row2 col5\" >nan</td>\n",
       "      <td id=\"T_6ee55_row2_col6\" class=\"data row2 col6\" >nan</td>\n",
       "      <td id=\"T_6ee55_row2_col7\" class=\"data row2 col7\" >nan</td>\n",
       "      <td id=\"T_6ee55_row2_col8\" class=\"data row2 col8\" >nan</td>\n",
       "      <td id=\"T_6ee55_row2_col9\" class=\"data row2 col9\" >nan</td>\n",
       "      <td id=\"T_6ee55_row2_col10\" class=\"data row2 col10\" >nan</td>\n",
       "    </tr>\n",
       "    <tr>\n",
       "      <th id=\"T_6ee55_level0_row3\" class=\"row_heading level0 row3\" >openness</th>\n",
       "      <td id=\"T_6ee55_row3_col0\" class=\"data row3 col0\" >0.19</td>\n",
       "      <td id=\"T_6ee55_row3_col1\" class=\"data row3 col1\" >0.24</td>\n",
       "      <td id=\"T_6ee55_row3_col2\" class=\"data row3 col2\" >0.11</td>\n",
       "      <td id=\"T_6ee55_row3_col3\" class=\"data row3 col3\" >nan</td>\n",
       "      <td id=\"T_6ee55_row3_col4\" class=\"data row3 col4\" >nan</td>\n",
       "      <td id=\"T_6ee55_row3_col5\" class=\"data row3 col5\" >nan</td>\n",
       "      <td id=\"T_6ee55_row3_col6\" class=\"data row3 col6\" >nan</td>\n",
       "      <td id=\"T_6ee55_row3_col7\" class=\"data row3 col7\" >nan</td>\n",
       "      <td id=\"T_6ee55_row3_col8\" class=\"data row3 col8\" >nan</td>\n",
       "      <td id=\"T_6ee55_row3_col9\" class=\"data row3 col9\" >nan</td>\n",
       "      <td id=\"T_6ee55_row3_col10\" class=\"data row3 col10\" >nan</td>\n",
       "    </tr>\n",
       "    <tr>\n",
       "      <th id=\"T_6ee55_level0_row4\" class=\"row_heading level0 row4\" >neuroticism</th>\n",
       "      <td id=\"T_6ee55_row4_col0\" class=\"data row4 col0\" >-0.08</td>\n",
       "      <td id=\"T_6ee55_row4_col1\" class=\"data row4 col1\" >0.03</td>\n",
       "      <td id=\"T_6ee55_row4_col2\" class=\"data row4 col2\" >-0.14</td>\n",
       "      <td id=\"T_6ee55_row4_col3\" class=\"data row4 col3\" >-0.04</td>\n",
       "      <td id=\"T_6ee55_row4_col4\" class=\"data row4 col4\" >nan</td>\n",
       "      <td id=\"T_6ee55_row4_col5\" class=\"data row4 col5\" >nan</td>\n",
       "      <td id=\"T_6ee55_row4_col6\" class=\"data row4 col6\" >nan</td>\n",
       "      <td id=\"T_6ee55_row4_col7\" class=\"data row4 col7\" >nan</td>\n",
       "      <td id=\"T_6ee55_row4_col8\" class=\"data row4 col8\" >nan</td>\n",
       "      <td id=\"T_6ee55_row4_col9\" class=\"data row4 col9\" >nan</td>\n",
       "      <td id=\"T_6ee55_row4_col10\" class=\"data row4 col10\" >nan</td>\n",
       "    </tr>\n",
       "    <tr>\n",
       "      <th id=\"T_6ee55_level0_row5\" class=\"row_heading level0 row5\" >age</th>\n",
       "      <td id=\"T_6ee55_row5_col0\" class=\"data row5 col0\" >0.12</td>\n",
       "      <td id=\"T_6ee55_row5_col1\" class=\"data row5 col1\" >-0.07</td>\n",
       "      <td id=\"T_6ee55_row5_col2\" class=\"data row5 col2\" >0.12</td>\n",
       "      <td id=\"T_6ee55_row5_col3\" class=\"data row5 col3\" >-0.03</td>\n",
       "      <td id=\"T_6ee55_row5_col4\" class=\"data row5 col4\" >0.05</td>\n",
       "      <td id=\"T_6ee55_row5_col5\" class=\"data row5 col5\" >nan</td>\n",
       "      <td id=\"T_6ee55_row5_col6\" class=\"data row5 col6\" >nan</td>\n",
       "      <td id=\"T_6ee55_row5_col7\" class=\"data row5 col7\" >nan</td>\n",
       "      <td id=\"T_6ee55_row5_col8\" class=\"data row5 col8\" >nan</td>\n",
       "      <td id=\"T_6ee55_row5_col9\" class=\"data row5 col9\" >nan</td>\n",
       "      <td id=\"T_6ee55_row5_col10\" class=\"data row5 col10\" >nan</td>\n",
       "    </tr>\n",
       "    <tr>\n",
       "      <th id=\"T_6ee55_level0_row6\" class=\"row_heading level0 row6\" >age_squared</th>\n",
       "      <td id=\"T_6ee55_row6_col0\" class=\"data row6 col0\" >0.10</td>\n",
       "      <td id=\"T_6ee55_row6_col1\" class=\"data row6 col1\" >-0.07</td>\n",
       "      <td id=\"T_6ee55_row6_col2\" class=\"data row6 col2\" >0.11</td>\n",
       "      <td id=\"T_6ee55_row6_col3\" class=\"data row6 col3\" >-0.04</td>\n",
       "      <td id=\"T_6ee55_row6_col4\" class=\"data row6 col4\" >0.06</td>\n",
       "      <td id=\"T_6ee55_row6_col5\" class=\"data row6 col5\" >0.99</td>\n",
       "      <td id=\"T_6ee55_row6_col6\" class=\"data row6 col6\" >nan</td>\n",
       "      <td id=\"T_6ee55_row6_col7\" class=\"data row6 col7\" >nan</td>\n",
       "      <td id=\"T_6ee55_row6_col8\" class=\"data row6 col8\" >nan</td>\n",
       "      <td id=\"T_6ee55_row6_col9\" class=\"data row6 col9\" >nan</td>\n",
       "      <td id=\"T_6ee55_row6_col10\" class=\"data row6 col10\" >nan</td>\n",
       "    </tr>\n",
       "    <tr>\n",
       "      <th id=\"T_6ee55_level0_row7\" class=\"row_heading level0 row7\" >gender</th>\n",
       "      <td id=\"T_6ee55_row7_col0\" class=\"data row7 col0\" >-0.11</td>\n",
       "      <td id=\"T_6ee55_row7_col1\" class=\"data row7 col1\" >-0.07</td>\n",
       "      <td id=\"T_6ee55_row7_col2\" class=\"data row7 col2\" >-0.13</td>\n",
       "      <td id=\"T_6ee55_row7_col3\" class=\"data row7 col3\" >-0.05</td>\n",
       "      <td id=\"T_6ee55_row7_col4\" class=\"data row7 col4\" >-0.22</td>\n",
       "      <td id=\"T_6ee55_row7_col5\" class=\"data row7 col5\" >-0.05</td>\n",
       "      <td id=\"T_6ee55_row7_col6\" class=\"data row7 col6\" >-0.05</td>\n",
       "      <td id=\"T_6ee55_row7_col7\" class=\"data row7 col7\" >nan</td>\n",
       "      <td id=\"T_6ee55_row7_col8\" class=\"data row7 col8\" >nan</td>\n",
       "      <td id=\"T_6ee55_row7_col9\" class=\"data row7 col9\" >nan</td>\n",
       "      <td id=\"T_6ee55_row7_col10\" class=\"data row7 col10\" >nan</td>\n",
       "    </tr>\n",
       "    <tr>\n",
       "      <th id=\"T_6ee55_level0_row8\" class=\"row_heading level0 row8\" >education</th>\n",
       "      <td id=\"T_6ee55_row8_col0\" class=\"data row8 col0\" >0.01</td>\n",
       "      <td id=\"T_6ee55_row8_col1\" class=\"data row8 col1\" >0.05</td>\n",
       "      <td id=\"T_6ee55_row8_col2\" class=\"data row8 col2\" >-0.04</td>\n",
       "      <td id=\"T_6ee55_row8_col3\" class=\"data row8 col3\" >0.12</td>\n",
       "      <td id=\"T_6ee55_row8_col4\" class=\"data row8 col4\" >-0.02</td>\n",
       "      <td id=\"T_6ee55_row8_col5\" class=\"data row8 col5\" >-0.26</td>\n",
       "      <td id=\"T_6ee55_row8_col6\" class=\"data row8 col6\" >-0.27</td>\n",
       "      <td id=\"T_6ee55_row8_col7\" class=\"data row8 col7\" >-0.17</td>\n",
       "      <td id=\"T_6ee55_row8_col8\" class=\"data row8 col8\" >nan</td>\n",
       "      <td id=\"T_6ee55_row8_col9\" class=\"data row8 col9\" >nan</td>\n",
       "      <td id=\"T_6ee55_row8_col10\" class=\"data row8 col10\" >nan</td>\n",
       "    </tr>\n",
       "    <tr>\n",
       "      <th id=\"T_6ee55_level0_row9\" class=\"row_heading level0 row9\" >trained</th>\n",
       "      <td id=\"T_6ee55_row9_col0\" class=\"data row9 col0\" >0.04</td>\n",
       "      <td id=\"T_6ee55_row9_col1\" class=\"data row9 col1\" >0.06</td>\n",
       "      <td id=\"T_6ee55_row9_col2\" class=\"data row9 col2\" >-0.04</td>\n",
       "      <td id=\"T_6ee55_row9_col3\" class=\"data row9 col3\" >0.13</td>\n",
       "      <td id=\"T_6ee55_row9_col4\" class=\"data row9 col4\" >-0.09</td>\n",
       "      <td id=\"T_6ee55_row9_col5\" class=\"data row9 col5\" >-0.20</td>\n",
       "      <td id=\"T_6ee55_row9_col6\" class=\"data row9 col6\" >-0.22</td>\n",
       "      <td id=\"T_6ee55_row9_col7\" class=\"data row9 col7\" >0.02</td>\n",
       "      <td id=\"T_6ee55_row9_col8\" class=\"data row9 col8\" >0.36</td>\n",
       "      <td id=\"T_6ee55_row9_col9\" class=\"data row9 col9\" >nan</td>\n",
       "      <td id=\"T_6ee55_row9_col10\" class=\"data row9 col10\" >nan</td>\n",
       "    </tr>\n",
       "    <tr>\n",
       "      <th id=\"T_6ee55_level0_row10\" class=\"row_heading level0 row10\" >employed_postpiaac</th>\n",
       "      <td id=\"T_6ee55_row10_col0\" class=\"data row10 col0\" >0.07</td>\n",
       "      <td id=\"T_6ee55_row10_col1\" class=\"data row10 col1\" >0.04</td>\n",
       "      <td id=\"T_6ee55_row10_col2\" class=\"data row10 col2\" >-0.03</td>\n",
       "      <td id=\"T_6ee55_row10_col3\" class=\"data row10 col3\" >0.06</td>\n",
       "      <td id=\"T_6ee55_row10_col4\" class=\"data row10 col4\" >-0.11</td>\n",
       "      <td id=\"T_6ee55_row10_col5\" class=\"data row10 col5\" >-0.20</td>\n",
       "      <td id=\"T_6ee55_row10_col6\" class=\"data row10 col6\" >-0.24</td>\n",
       "      <td id=\"T_6ee55_row10_col7\" class=\"data row10 col7\" >0.14</td>\n",
       "      <td id=\"T_6ee55_row10_col8\" class=\"data row10 col8\" >0.20</td>\n",
       "      <td id=\"T_6ee55_row10_col9\" class=\"data row10 col9\" >0.31</td>\n",
       "      <td id=\"T_6ee55_row10_col10\" class=\"data row10 col10\" >nan</td>\n",
       "    </tr>\n",
       "  </tbody>\n",
       "</table>\n"
      ],
      "text/plain": [
       "<pandas.io.formats.style.Styler at 0x28af1443880>"
      ]
     },
     "execution_count": 367,
     "metadata": {},
     "output_type": "execute_result"
    }
   ],
   "source": [
    "# Fill diagonal and upper half with NaNs\n",
    "# https://stackoverflow.com/questions/29432629/plot-correlation-matrix-using-pandas\n",
    "\n",
    "corr = clean_data.corr()\n",
    "mask = np.zeros_like(corr, dtype=bool)\n",
    "mask[np.triu_indices_from(mask)] = True\n",
    "corr[mask] = np.nan\n",
    "(corr\n",
    " .style\n",
    " .background_gradient(cmap='coolwarm', axis=None, vmin=-1, vmax=1)\n",
    " .highlight_null(null_color='#f1f1f1')  # Color NaNs grey\n",
    " .set_precision(2))"
   ]
  },
  {
   "cell_type": "markdown",
   "metadata": {},
   "source": [
    "Relatively strong correlations were observed between variables representing human capital - more specifically between `education` and `trained`, which may indicate that better educated people were more likely to have participated in trainings. \n",
    "As for the outcome variable, `trained` was the most strongly correlated variable. \n",
    "\n",
    "Among the Big Five characteristics, the variables `conscientiousness` and `agreeableness`, `conscientiousness` and `openness`, as well as `extraversion` and `openness` showed the strongest correlation with each other. \n",
    "In case of the outcome variable, the strongest correlation among all personality traits was observed for `neuroticism`. `Openness`, on the other hand, had the highest correlation coefficient among the traits with the variable `education` and `trained`. \n",
    "\n",
    "The other correlations were rather average or weak. \n",
    "\n",
    "Furthermore, it should be emphasised here that both the Big Five personality traits and cognitive skills were measured in the postPIAAC study, therefore at the same point in time for all observations. This means that the young people taking part in the study may still have been in the midst of their educational attainment, while the older people may have been many years past it. "
   ]
  }
 ],
 "metadata": {
  "kernelspec": {
   "display_name": "Python 3.10.6 64-bit (windows store)",
   "language": "python",
   "name": "python3"
  },
  "language_info": {
   "codemirror_mode": {
    "name": "ipython",
    "version": 3
   },
   "file_extension": ".py",
   "mimetype": "text/x-python",
   "name": "python",
   "nbconvert_exporter": "python",
   "pygments_lexer": "ipython3",
   "version": "3.10.6"
  },
  "orig_nbformat": 4,
  "vscode": {
   "interpreter": {
    "hash": "8c3aab159115e54715c9ad82261e4d6c2d35dd678de2c41fbe6f6d8be9ba30a4"
   }
  }
 },
 "nbformat": 4,
 "nbformat_minor": 2
}
